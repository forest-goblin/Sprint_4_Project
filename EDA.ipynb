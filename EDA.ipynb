{
 "cells": [
  {
   "cell_type": "code",
   "execution_count": null,
   "metadata": {},
   "outputs": [],
   "source": [
    "import plotly.express as px"
   ]
  },
  {
   "cell_type": "code",
   "execution_count": null,
   "metadata": {},
   "outputs": [],
   "source": [
    "import streamlit as st"
   ]
  },
  {
   "cell_type": "code",
   "execution_count": null,
   "metadata": {},
   "outputs": [],
   "source": [
    "import pandas as pd"
   ]
  },
  {
   "cell_type": "code",
   "execution_count": null,
   "metadata": {},
   "outputs": [],
   "source": [
    "import scipy.stats"
   ]
  },
  {
   "cell_type": "code",
   "execution_count": null,
   "metadata": {},
   "outputs": [],
   "source": [
    "import streamlit as st"
   ]
  },
  {
   "cell_type": "code",
   "execution_count": null,
   "metadata": {},
   "outputs": [],
   "source": [
    "import dash\n",
    "import dash_core_components as dcc\n",
    "from dash import html\n",
    "from dash.dependencies import Input, Output, State"
   ]
  },
  {
   "cell_type": "code",
   "execution_count": null,
   "metadata": {},
   "outputs": [],
   "source": [
    "steam = pd.read_csv('C:/Users/Donah/Documents/git/projects/Sprint_4_Project/steam_games.csv')"
   ]
  },
  {
   "cell_type": "code",
   "execution_count": 1,
   "metadata": {},
   "outputs": [
    {
     "ename": "NameError",
     "evalue": "name 'dash' is not defined",
     "output_type": "error",
     "traceback": [
      "\u001b[1;31m---------------------------------------------------------------------------\u001b[0m",
      "\u001b[1;31mNameError\u001b[0m                                 Traceback (most recent call last)",
      "Cell \u001b[1;32mIn[1], line 1\u001b[0m\n\u001b[1;32m----> 1\u001b[0m app \u001b[38;5;241m=\u001b[39m \u001b[43mdash\u001b[49m\u001b[38;5;241m.\u001b[39mDash(\u001b[38;5;18m__name__\u001b[39m)\n\u001b[0;32m      3\u001b[0m app\u001b[38;5;241m.\u001b[39mlayout \u001b[38;5;241m=\u001b[39m html\u001b[38;5;241m.\u001b[39mDiv([\n\u001b[0;32m      4\u001b[0m     html\u001b[38;5;241m.\u001b[39mDiv([\n\u001b[0;32m      5\u001b[0m         html\u001b[38;5;241m.\u001b[39mLabel([\u001b[38;5;124m'\u001b[39m\u001b[38;5;124mGame Genres\u001b[39m\u001b[38;5;124m'\u001b[39m]),\n\u001b[1;32m   (...)\u001b[0m\n\u001b[0;32m     25\u001b[0m \n\u001b[0;32m     26\u001b[0m ])\n\u001b[0;32m     29\u001b[0m \u001b[38;5;129m@app\u001b[39m\u001b[38;5;241m.\u001b[39mcallback(\n\u001b[0;32m     30\u001b[0m     Output(component_id\u001b[38;5;241m=\u001b[39m\u001b[38;5;124m'\u001b[39m\u001b[38;5;124mthe_graph\u001b[39m\u001b[38;5;124m'\u001b[39m, component_property\u001b[38;5;241m=\u001b[39m\u001b[38;5;124m'\u001b[39m\u001b[38;5;124mfigure\u001b[39m\u001b[38;5;124m'\u001b[39m),\n\u001b[0;32m     31\u001b[0m     [Input(component_id\u001b[38;5;241m=\u001b[39m\u001b[38;5;124m'\u001b[39m\u001b[38;5;124mmy_drop\u001b[39m\u001b[38;5;124m'\u001b[39m, component_property\u001b[38;5;241m=\u001b[39m\u001b[38;5;124m'\u001b[39m\u001b[38;5;124mvalue\u001b[39m\u001b[38;5;124m'\u001b[39m)]\n\u001b[0;32m     32\u001b[0m )\n\u001b[0;32m     33\u001b[0m \n\u001b[0;32m     34\u001b[0m \u001b[38;5;28;01mdef\u001b[39;00m \u001b[38;5;21mupdate_graph\u001b[39m(my_drop):\n",
      "\u001b[1;31mNameError\u001b[0m: name 'dash' is not defined"
     ]
    }
   ],
   "source": [
    "app = dash.Dash(__name__)\n",
    "\n",
    "app.layout = html.Div([\n",
    "    html.Div([\n",
    "        html.Label(['Game Genres']),\n",
    "        dcc.Dropdown(\n",
    "            id='my_drop',\n",
    "            options=[\n",
    "                {'label':'Recent Reviews', 'value' : 'recent_review'},\n",
    "                {'label':'Overall Reviews', 'value' : 'overall_review'},\n",
    "                {'label':'Awards', 'value' : 'awards'},\n",
    "                {'label':'Overall Review Percent', 'value' : 'overall_review_%'},\n",
    "            ],\n",
    "            value='overall_review',\n",
    "            multi=False,\n",
    "            clearable=False,\n",
    "            style={'width':'50%'}\n",
    "        ),\n",
    "     ]),\n",
    "\n",
    "\n",
    "    html.Div([\n",
    "         dcc.Graph(id='the_graph')\n",
    "    ]),\n",
    "\n",
    "])\n",
    "\n",
    "\n",
    "@app.callback(\n",
    "    Output(component_id='the_graph', component_property='figure'),\n",
    "    [Input(component_id='my_drop', component_property='value')]\n",
    ")\n",
    "\n",
    "def update_graph(my_drop):\n",
    "    steam_info = steam\n",
    "\n",
    "    piechart=px.pie(\n",
    "        data_frame=steam_info,\n",
    "        names=my_drop,\n",
    "        hole=.3,\n",
    "        )\n",
    "    \n",
    "    return(piechart)\n",
    "\n",
    "if __name__ == '__main__':\n",
    "    app.run_server(debug=True)"
   ]
  }
 ],
 "metadata": {
  "kernelspec": {
   "display_name": "Python 3",
   "language": "python",
   "name": "python3"
  },
  "language_info": {
   "codemirror_mode": {
    "name": "ipython",
    "version": 3
   },
   "file_extension": ".py",
   "mimetype": "text/x-python",
   "name": "python",
   "nbconvert_exporter": "python",
   "pygments_lexer": "ipython3",
   "version": "3.12.2"
  }
 },
 "nbformat": 4,
 "nbformat_minor": 2
}

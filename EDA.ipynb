{
 "cells": [
  {
   "cell_type": "code",
<<<<<<< HEAD
   "execution_count": 27,
=======
   "execution_count": 1,
>>>>>>> 8e19099a8859e8901b79a05aec8c1249adc6c8e5
   "metadata": {},
   "outputs": [],
   "source": [
    "import plotly.express as px"
   ]
  },
  {
   "cell_type": "code",
<<<<<<< HEAD
   "execution_count": 28,
=======
   "execution_count": 2,
>>>>>>> 8e19099a8859e8901b79a05aec8c1249adc6c8e5
   "metadata": {},
   "outputs": [],
   "source": [
    "import pandas as pd"
   ]
  },
  {
   "cell_type": "code",
<<<<<<< HEAD
   "execution_count": 29,
=======
   "execution_count": 3,
>>>>>>> 8e19099a8859e8901b79a05aec8c1249adc6c8e5
   "metadata": {},
   "outputs": [],
   "source": [
    "import scipy.stats"
   ]
  },
  {
   "cell_type": "code",
<<<<<<< HEAD
   "execution_count": 30,
=======
   "execution_count": 4,
>>>>>>> 8e19099a8859e8901b79a05aec8c1249adc6c8e5
   "metadata": {},
   "outputs": [],
   "source": [
    "import streamlit as st"
   ]
  },
  {
   "cell_type": "code",
<<<<<<< HEAD
   "execution_count": 31,
   "metadata": {},
   "outputs": [],
=======
   "execution_count": 5,
   "metadata": {},
   "outputs": [
    {
     "ename": "ModuleNotFoundError",
     "evalue": "No module named 'dash'",
     "output_type": "error",
     "traceback": [
      "\u001b[1;31m---------------------------------------------------------------------------\u001b[0m",
      "\u001b[1;31mModuleNotFoundError\u001b[0m                       Traceback (most recent call last)",
      "Cell \u001b[1;32mIn[5], line 1\u001b[0m\n\u001b[1;32m----> 1\u001b[0m \u001b[38;5;28;01mimport\u001b[39;00m \u001b[38;5;21;01mdash\u001b[39;00m\n\u001b[0;32m      2\u001b[0m \u001b[38;5;28;01mimport\u001b[39;00m \u001b[38;5;21;01mdash_core_components\u001b[39;00m \u001b[38;5;28;01mas\u001b[39;00m \u001b[38;5;21;01mdcc\u001b[39;00m\n\u001b[0;32m      3\u001b[0m \u001b[38;5;28;01mfrom\u001b[39;00m \u001b[38;5;21;01mdash\u001b[39;00m \u001b[38;5;28;01mimport\u001b[39;00m html\n",
      "\u001b[1;31mModuleNotFoundError\u001b[0m: No module named 'dash'"
     ]
    }
   ],
>>>>>>> 8e19099a8859e8901b79a05aec8c1249adc6c8e5
   "source": [
    "import dash\n",
    "import dash_core_components as dcc\n",
    "from dash import html\n",
    "from dash.dependencies import Input, Output, State"
   ]
  },
  {
   "cell_type": "code",
<<<<<<< HEAD
   "execution_count": 32,
   "metadata": {},
   "outputs": [],
   "source": [
    "steam = pd.read_csv('C:/Users/Donah/Documents/git/projects/Sprint_4_Project/steam_games.csv')"
=======
   "execution_count": null,
   "metadata": {},
   "outputs": [],
   "source": [
    "steam = pd.read_csv('C:/Users/Donah/Documents/git/Sprint_4_Project/steam_games.csv')"
>>>>>>> 8e19099a8859e8901b79a05aec8c1249adc6c8e5
   ]
  },
  {
   "cell_type": "markdown",
   "metadata": {},
   "source": [
    "loading in dataset and packages"
   ]
  },
  {
   "cell_type": "code",
<<<<<<< HEAD
   "execution_count": 33,
   "metadata": {},
   "outputs": [
    {
     "data": {
      "text/html": [
       "\n",
       "        <iframe\n",
       "            width=\"100%\"\n",
       "            height=\"650\"\n",
       "            src=\"http://127.0.0.1:8050/\"\n",
       "            frameborder=\"0\"\n",
       "            allowfullscreen\n",
       "            \n",
       "        ></iframe>\n",
       "        "
      ],
      "text/plain": [
       "<IPython.lib.display.IFrame at 0x26a5e6133b0>"
      ]
     },
     "metadata": {},
     "output_type": "display_data"
    }
   ],
   "source": [
    "app = dash.Dash(__name__)\n",
=======
   "execution_count": null,
   "metadata": {},
   "outputs": [],
   "source": [
    "app = Dash(__name__)\n",
>>>>>>> 8e19099a8859e8901b79a05aec8c1249adc6c8e5
    "\n",
    "app.layout = html.Div([\n",
    "    html.Div([\n",
    "        html.Label(['Game Genres']),\n",
    "        dcc.Dropdown(\n",
    "            id='my_drop',\n",
    "            options=[\n",
    "                {'label':'Recent Reviews', 'value' : 'recent_review'},\n",
    "                {'label':'Overall Reviews', 'value' : 'overall_review'},\n",
    "                {'label':'Awards', 'value' : 'awards'},\n",
    "                {'label':'Overall Review Percent', 'value' : 'overall_review_%'},\n",
    "            ],\n",
    "            value='overall_review',\n",
    "            multi=False,\n",
    "            clearable=False,\n",
    "            style={'width':'50%'}\n",
    "        ),\n",
    "     ]),\n",
    "\n",
    "\n",
    "    html.Div([\n",
    "         dcc.Graph(id='the_graph')\n",
    "    ]),\n",
    "\n",
    "])\n",
    "\n",
    "\n",
    "@app.callback(\n",
    "    Output(component_id='the_graph', component_property='figure'),\n",
    "    [Input(component_id='my_drop', component_property='value')]\n",
    ")\n",
    "\n",
    "def update_graph(my_drop):\n",
    "    steam_info = steam\n",
    "\n",
    "    piechart=px.pie(\n",
    "        data_frame=steam_info,\n",
    "        names=my_drop,\n",
    "        hole=.3,\n",
    "        )\n",
    "    \n",
    "    return(piechart)\n",
    "\n",
    "if __name__ == '__main__':\n",
    "    app.run_server(debug=True)"
   ]
<<<<<<< HEAD
=======
  },
  {
   "cell_type": "code",
   "execution_count": null,
   "metadata": {},
   "outputs": [],
   "source": [
    "app.layout = html.Div([\n",
    "    html.H4('Game Genres'),\n",
    "    dcc.Graph(id=\"graph\"),\n",
    "    html.P(\"Names:\"),\n",
    "    dcc.Dropdown(id='names',\n",
    "        options=['genres', 'devolper', 'categories', 'publisher'],\n",
    "        value='genres', clearable=False\n",
    "    ),\n",
    "    html.P(\"Values:\"),\n",
    "    dcc.Dropdown(id='values',\n",
    "        options=['overall_review_%', 'overall_review_count', 'overall_review'],\n",
    "        value='overall_review_%', clearable=False\n",
    "    ),\n",
    "])\n",
    " html.H4('Game Genres'),\n",
    "    dcc.Graph(id=\"graph\"),\n",
    "    html.P(\"Names:\"),\n",
    "    dcc.Dropdown(id='names',\n",
    "        options=['genres', 'devolper', 'categories', 'publisher'],\n",
    "        value='genres', clearable=False\n",
    "    ),\n",
    "    html.P(\"Values:\"),\n",
    "    dcc.Dropdown(id='values',\n",
    "        options=['overall_review_%', 'overall_review_count', 'overall_review'],\n",
    "        value='overall_review_%', clearable=False\n",
    "    ),\n",
    "])\n",
    "@app.callback(\n",
    "    Output(\"graph\", \"figure\"), \n",
    "    Input(\"names\", \"value\"), \n",
    "    Input(\"values\", \"value\"))\n",
    "def generate_chart(names, values):\n",
    "    df = px.data.steam() # replace with your own data source\n",
    "    fig = px.pie(steam, values=values, names=names, hole=.3)\n",
    "    return fig"
   ]
  },
  {
   "cell_type": "code",
   "execution_count": null,
   "metadata": {},
   "outputs": [],
   "source": []
>>>>>>> 8e19099a8859e8901b79a05aec8c1249adc6c8e5
  }
 ],
 "metadata": {
  "kernelspec": {
   "display_name": "Python 3 (ipykernel)",
   "language": "python",
   "name": "python3"
  },
  "language_info": {
   "codemirror_mode": {
    "name": "ipython",
    "version": 3
   },
   "file_extension": ".py",
   "mimetype": "text/x-python",
   "name": "python",
   "nbconvert_exporter": "python",
   "pygments_lexer": "ipython3",
<<<<<<< HEAD
   "version": "3.12.2"
=======
   "version": "3.11.7"
>>>>>>> 8e19099a8859e8901b79a05aec8c1249adc6c8e5
  }
 },
 "nbformat": 4,
 "nbformat_minor": 4
}
